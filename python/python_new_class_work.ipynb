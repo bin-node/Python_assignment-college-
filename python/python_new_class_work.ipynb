{
 "cells": [
  {
   "cell_type": "markdown",
   "metadata": {},
   "source": [
    "1. Use the datetime module to write a program that gets the current date and prints the day of\n",
    "the week"
   ]
  },
  {
   "cell_type": "code",
   "execution_count": 38,
   "metadata": {},
   "outputs": [
    {
     "name": "stdout",
     "output_type": "stream",
     "text": [
      "Today's date and current time is:\n",
      "2021-07-27 17:04:34.272232\n",
      "Day of the week is: Tuesday\n"
     ]
    }
   ],
   "source": [
    "from datetime import datetime\n",
    "print(\"Today's date and current time is:\")\n",
    "today = datetime.today()\n",
    "print(today)\n",
    "print(f'Day of the week is:', today.strftime(\"%A\" ))"
   ]
  },
  {
   "cell_type": "markdown",
   "metadata": {},
   "source": [
    "2. Write a program that takes a birthday of user as input and prints the user’s age and the number of\n",
    "days, hours, minutes and seconds until their next birthday."
   ]
  },
  {
   "cell_type": "code",
   "execution_count": 39,
   "metadata": {},
   "outputs": [
    {
     "name": "stdout",
     "output_type": "stream",
     "text": [
      "Enter your birthday in mm/dd/yyyy format: 08/01/1996\n",
      "your next birthday date is: 2021-08-01 00:00:00\n",
      "Currently, you are : 24 years old\n",
      "Your next birthday is far from: 4 days, 6:55:25.727768\n"
     ]
    }
   ],
   "source": [
    "\n",
    "    from __future__ import print_function, division\n",
    "\n",
    "    from datetime import datetime\n",
    "    \n",
    "    birth = input('Enter your birthday in mm/dd/yyyy format: ')\n",
    "    \n",
    "    bday = datetime.strptime(birth, '%m/%d/%Y')\n",
    "\n",
    "    next_bday = bday.replace(year=today.year)\n",
    "    if next_bday < today:\n",
    "        next_bday = next_bday.replace(year=today.year+1)\n",
    "    print(f\"your next birthday date is:\", next_bday)\n",
    "    last_bday = next_bday.replace(year=next_bday.year-1)\n",
    "    age = last_bday.year - bday.year\n",
    "    print(f\"Currently, you are :\", age, \"years old\")\n",
    "    until_next_bday = next_bday - today\n",
    "    print(\"Your next birthday is far from:\",until_next_bday)\n",
    "\n",
    "    "
   ]
  },
  {
   "cell_type": "markdown",
   "metadata": {},
   "source": [
    "3. Write a program that takes birthday of a person and calculates the total number of seconds they have\n",
    "been living in epoch time"
   ]
  },
  {
   "cell_type": "code",
   "execution_count": 40,
   "metadata": {},
   "outputs": [
    {
     "name": "stdout",
     "output_type": "stream",
     "text": [
      "Enter Birth date and time in the format dd/mm/yyyy hh/mm/ss: 01/08/1996 10:12:35\n",
      "Total seconds since birthday  788516836.111656\n"
     ]
    }
   ],
   "source": [
    "from datetime import datetime\n",
    "\n",
    "dt_string = input(\"Enter Birth date and time in the format dd/mm/yyyy hh/mm/ss: \") \n",
    "\n",
    "dt_object1 = datetime.strptime(dt_string, \"%d/%m/%Y %H:%M:%S\")\n",
    "dt_object2 = datetime.today()\n",
    "dt_object3 = (dt_object2-dt_object1)\n",
    "print(f\"Total seconds since birthday \", dt_object3.total_seconds())\n",
    "\n"
   ]
  },
  {
   "cell_type": "code",
   "execution_count": null,
   "metadata": {},
   "outputs": [],
   "source": []
  },
  {
   "cell_type": "code",
   "execution_count": null,
   "metadata": {},
   "outputs": [],
   "source": []
  },
  {
   "cell_type": "code",
   "execution_count": null,
   "metadata": {},
   "outputs": [],
   "source": []
  },
  {
   "cell_type": "markdown",
   "metadata": {},
   "source": [
    "4. Write a Python program to print the date for yesterday, today, and tomorrow."
   ]
  },
  {
   "cell_type": "code",
   "execution_count": 14,
   "metadata": {},
   "outputs": [
    {
     "name": "stdout",
     "output_type": "stream",
     "text": [
      "Yesterday :  2021-07-24\n",
      "Today :  2021-07-25\n",
      "Tomorrow :  2021-07-26\n"
     ]
    }
   ],
   "source": [
    "import datetime \n",
    "today = datetime.date.today()\n",
    "yesterday = today - datetime.timedelta(days = 1)\n",
    "tomorrow = today + datetime.timedelta(days = 1) \n",
    "print('Yesterday : ',yesterday)\n",
    "print('Today : ',  today)\n",
    "print('Tomorrow : ', tomorrow)"
   ]
  },
  {
   "cell_type": "code",
   "execution_count": null,
   "metadata": {},
   "outputs": [],
   "source": []
  },
  {
   "cell_type": "code",
   "execution_count": null,
   "metadata": {},
   "outputs": [],
   "source": []
  }
 ],
 "metadata": {
  "kernelspec": {
   "display_name": "Python 3",
   "language": "python",
   "name": "python3"
  },
  "language_info": {
   "codemirror_mode": {
    "name": "ipython",
    "version": 3
   },
   "file_extension": ".py",
   "mimetype": "text/x-python",
   "name": "python",
   "nbconvert_exporter": "python",
   "pygments_lexer": "ipython3",
   "version": "3.8.5"
  }
 },
 "nbformat": 4,
 "nbformat_minor": 4
}
